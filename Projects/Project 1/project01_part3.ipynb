{
 "cells": [
  {
   "cell_type": "markdown",
   "metadata": {},
   "source": [
    "### This is the last part of the project, well done so far !!\n",
    "\n",
    "\n",
    "#### You're required to build a CNN in python using a library called keras, you'll build a model that predicts which number is in the image."
   ]
  },
  {
   "cell_type": "code",
   "execution_count": null,
   "metadata": {},
   "outputs": [],
   "source": [
    "# pip install Keras"
   ]
  },
  {
   "cell_type": "code",
   "execution_count": null,
   "metadata": {},
   "outputs": [],
   "source": [
    "import keras # NOTE: If you have an error here you need to uncomment the previous cell"
   ]
  },
  {
   "cell_type": "markdown",
   "metadata": {},
   "source": [
    "### Step1: Importing data"
   ]
  },
  {
   "cell_type": "code",
   "execution_count": null,
   "metadata": {},
   "outputs": [],
   "source": [
    "# Don't change anything here\n",
    "from keras.datasets import mnist\n",
    "from keras.utils import to_categorical\n",
    "\n",
    "(train_images, train_labels), (test_images, test_labels) = mnist.load_data()\n",
    "\n",
    "train_images = train_images.reshape((60000, 28, 28, 1))\n",
    "train_images = train_images.astype('float32') / 255\n",
    "\n",
    "test_images = test_images.reshape((10000, 28, 28, 1))\n",
    "test_images = test_images.astype('float32') / 255\n",
    "\n",
    "train_labels = to_categorical(train_labels)\n",
    "test_labels = to_categorical(test_labels)"
   ]
  },
  {
   "cell_type": "code",
   "execution_count": null,
   "metadata": {},
   "outputs": [],
   "source": [
    "import matplotlib.pyplot as plt\n",
    "import numpy as np"
   ]
  },
  {
   "cell_type": "code",
   "execution_count": null,
   "metadata": {},
   "outputs": [],
   "source": [
    "# NOTE: YOU CAN RUN THIS CELL MANY TIMES TO GET AN IDEA OF THE GIVEN DATASET\n",
    "# Don't change anything here\n",
    "random_image = np.random.randint(len(train_images)) # Getting a random index from trining data\n",
    "plt.imshow(train_images[random_image].reshape(28,28)) # Plotting the data of the random training example\n",
    "print('This training example label is '+str(np.argmax(train_labels[random_image]))) # Printing the answer of the random training example"
   ]
  },
  {
   "cell_type": "markdown",
   "metadata": {},
   "source": [
    "### Step2: Building your first CNN "
   ]
  },
  {
   "cell_type": "code",
   "execution_count": null,
   "metadata": {},
   "outputs": [],
   "source": [
    "from keras import layers\n",
    "from keras import models"
   ]
  },
  {
   "cell_type": "markdown",
   "metadata": {},
   "source": [
    "#### Step 2.1: Add Convolution (with RELU) and max pooling layers\n",
    "\n",
    "\n",
    "##### - You should search how to add conv2D (with RELU) and MaxPooling2D layers in Keras"
   ]
  },
  {
   "cell_type": "raw",
   "metadata": {},
   "source": [
    "Helping Links:\n",
    "\n",
    "- https://www.tensorflow.org/api_docs/python/tf/keras/layers/Conv2D\n",
    "\n",
    "- https://www.tensorflow.org/api_docs/python/tf/keras/layers/MaxPool2D"
   ]
  },
  {
   "cell_type": "code",
   "execution_count": null,
   "metadata": {},
   "outputs": [],
   "source": [
    "# (1) Define a variable that have model sequential object\n",
    "model = models.Sequential()\n",
    "# (2) Add conv2D with 32 filters , filter size (kernel size) = (3,3) , activation function = RELU and input shape = (28,28,1)\n",
    "\n",
    "# (3) Add MaxPooling2D with size (2,2)\n",
    "\n",
    "# (4) Add conv2D with 64 filters , filter size (kernel size) = (3,3) and activation function = RELU\n",
    "\n",
    "# (5) Add MaxPooling2D with size (2,2)\n",
    "\n",
    "# (6) Add conv2D with 64 filters , filter size (kernel size) = (3,3) and activation function = RELU\n"
   ]
  },
  {
   "cell_type": "code",
   "execution_count": null,
   "metadata": {},
   "outputs": [],
   "source": [
    "# Testing the model building\n",
    "# Don't change this cell\n",
    "model.summary()"
   ]
  },
  {
   "cell_type": "raw",
   "metadata": {},
   "source": [
    "This should be the output after running model.summary()\n",
    "_________________________________________________________________\n",
    "Layer (type)                 Output Shape              Param #   \n",
    "=================================================================\n",
    "conv2d_1 (Conv2D)            (None, 26, 26, 32)        320       \n",
    "_________________________________________________________________\n",
    "max_pooling2d_1 (MaxPooling2 (None, 13, 13, 32)        0         \n",
    "_________________________________________________________________\n",
    "conv2d_2 (Conv2D)            (None, 11, 11, 64)        18496     \n",
    "_________________________________________________________________\n",
    "max_pooling2d_2 (MaxPooling2 (None, 5, 5, 64)          0         \n",
    "_________________________________________________________________\n",
    "conv2d_3 (Conv2D)            (None, 3, 3, 64)          36928     \n",
    "=================================================================\n",
    "Total params: 55,744\n",
    "Trainable params: 55,744\n",
    "Non-trainable params: 0\n",
    "_________________________________________________________________"
   ]
  },
  {
   "cell_type": "markdown",
   "metadata": {},
   "source": [
    "#### Step 2.2: Add Flatten and Dense (equivalent to fully connected) layers"
   ]
  },
  {
   "cell_type": "code",
   "execution_count": null,
   "metadata": {},
   "outputs": [],
   "source": [
    "# (7) Add Flatten layer\n",
    "\n",
    "# (8) Add Dense layer with 64 units (neurons) and Relu activation function\n",
    "\n",
    "# (9) Add Dense layer with 10 units (neurons) and Softmax activation function\n"
   ]
  },
  {
   "cell_type": "code",
   "execution_count": null,
   "metadata": {},
   "outputs": [],
   "source": [
    "# Testing the model building\n",
    "# Don't change this cell\n",
    "model.summary()"
   ]
  },
  {
   "cell_type": "raw",
   "metadata": {},
   "source": [
    "This should be the output after running model.summary()\n",
    "\n",
    "_________________________________________________________________\n",
    "Layer (type)                 Output Shape              Param #   \n",
    "=================================================================\n",
    "conv2d_1 (Conv2D)            (None, 26, 26, 32)        320       \n",
    "_________________________________________________________________\n",
    "max_pooling2d_1 (MaxPooling2 (None, 13, 13, 32)        0         \n",
    "_________________________________________________________________\n",
    "conv2d_2 (Conv2D)            (None, 11, 11, 64)        18496     \n",
    "_________________________________________________________________\n",
    "max_pooling2d_2 (MaxPooling2 (None, 5, 5, 64)          0         \n",
    "_________________________________________________________________\n",
    "conv2d_3 (Conv2D)            (None, 3, 3, 64)          36928     \n",
    "_________________________________________________________________\n",
    "flatten_1 (Flatten)          (None, 576)               0         \n",
    "_________________________________________________________________\n",
    "dense_1 (Dense)              (None, 64)                36928     \n",
    "_________________________________________________________________\n",
    "dense_2 (Dense)              (None, 10)                650       \n",
    "=================================================================\n",
    "Total params: 93,322\n",
    "Trainable params: 93,322\n",
    "Non-trainable params: 0\n",
    "_________________________________________________________________"
   ]
  },
  {
   "cell_type": "markdown",
   "metadata": {},
   "source": [
    "### We need to predict if the image contains a (0 - 1 - 2 - .. - 9).\n",
    "#### - What is the meaning of the values of the 10 units in the last dense layer ?"
   ]
  },
  {
   "cell_type": "code",
   "execution_count": null,
   "metadata": {},
   "outputs": [],
   "source": [
    "# Answer: <WRITE YOUR ANSWER HERE>"
   ]
  },
  {
   "cell_type": "markdown",
   "metadata": {},
   "source": [
    "### Step 3: Training the model"
   ]
  },
  {
   "cell_type": "code",
   "execution_count": null,
   "metadata": {},
   "outputs": [],
   "source": [
    "# (10) Define the optimizer, loss and metrics parameters\n",
    "# Parameters: optimizer = 'rmsprop' - loss = 'categorical_crossentropy' - metrics = ['accuracy']\n",
    "# Hint: Search for model.compile() function\n",
    "\n",
    "# (11) Fit your model to the data with:\n",
    "# epochs (equivalent to iterations) = 5\n",
    "# batch_size (equivalent to the number of training examples processed before the model is updated) = 64 \n",
    "# Example: Assume you have a dataset with 200 training examples (rows of data) and you choose a batch size of 5 and 1,000 epochs.\n",
    "# This means that the dataset will be divided into 40 batches, each with five samples. The model weights will be updated after each batch of five training examples.\n",
    "# Hint: Search for model.fit() function\n",
    "\n"
   ]
  },
  {
   "cell_type": "markdown",
   "metadata": {},
   "source": [
    "### Step 4: Testing the model"
   ]
  },
  {
   "cell_type": "code",
   "execution_count": null,
   "metadata": {},
   "outputs": [],
   "source": [
    "test_loss, test_acc = model.evaluate(test_images, test_labels)"
   ]
  },
  {
   "cell_type": "code",
   "execution_count": null,
   "metadata": {},
   "outputs": [],
   "source": [
    "print('The accuracy of model= '+str(test_acc*100))"
   ]
  }
 ],
 "metadata": {
  "kernelspec": {
   "display_name": "Python 3",
   "language": "python",
   "name": "python3"
  },
  "language_info": {
   "codemirror_mode": {
    "name": "ipython",
    "version": 3
   },
   "file_extension": ".py",
   "mimetype": "text/x-python",
   "name": "python",
   "nbconvert_exporter": "python",
   "pygments_lexer": "ipython3",
   "version": "3.7.6"
  }
 },
 "nbformat": 4,
 "nbformat_minor": 4
}
