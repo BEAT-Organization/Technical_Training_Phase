{
 "metadata": {
  "language_info": {
   "codemirror_mode": {
    "name": "ipython",
    "version": 3
   },
   "file_extension": ".py",
   "mimetype": "text/x-python",
   "name": "python",
   "nbconvert_exporter": "python",
   "pygments_lexer": "ipython3",
   "version": "3.7.4-final"
  },
  "orig_nbformat": 2,
  "kernelspec": {
   "name": "python3",
   "display_name": "Python 3",
   "language": "python"
  }
 },
 "nbformat": 4,
 "nbformat_minor": 2,
 "cells": [
  {
   "cell_type": "code",
   "execution_count": 1,
   "metadata": {},
   "outputs": [
    {
     "output_type": "stream",
     "name": "stdout",
     "text": [
      "              species name                                           sequence  \\\n0  Drosophila melanogaster  atatatatatcgcgtatatatacgactatatgcattaattatagca...   \n1  Drosophila melanogaster  actgtgacgtgtactgtacgactatcgatacgtagtactgatcgct...   \n2      Drosophila simulans  atcgatcatgtcgatcgatgatgcatccgactatcgtcgatcgtga...   \n3        Drosophila yakuba         cgcgcgctcgcgcatacggcctaatgcgcgcgctagcgatgc   \n4     Drosophila ananassae  ttacgatcgatcgatcgatcgatcgtcgatcgtcgatgctacatcg...   \n5     Drosophila ananassae  gcatcgatcgatcgcggcgcatcgatcgcgatcatcgatcatacgc...   \n\n  gene name  expression level  \n0    kdy647               264  \n1    jdg766               185  \n2    kdy533               485  \n3    hdt739                85  \n4    hdu045               356  \n5    teg436               222   \n\n"
     ]
    }
   ],
   "source": [
    "import pandas as pd\n",
    "\n",
    "data = pd.read_csv('data.csv', header=None)\n",
    "data.columns = ['species name', 'sequence', 'gene name', 'expression level']\n",
    "print(data, '\\n')"
   ]
  },
  {
   "cell_type": "code",
   "execution_count": 2,
   "metadata": {},
   "outputs": [
    {
     "output_type": "stream",
     "name": "stdout",
     "text": [
      "['kdy647' 'jdg766' 'kdy533'] \n\n"
     ]
    }
   ],
   "source": [
    "#1\n",
    "print(data[data['species name'].isin(['Drosophila melanogaster', 'Drosophila simulans'])]['gene name'].values, '\\n')"
   ]
  },
  {
   "cell_type": "code",
   "execution_count": 3,
   "metadata": {},
   "outputs": [
    {
     "output_type": "stream",
     "name": "stdout",
     "text": [
      "['kdy647' 'teg436'] \n\n"
     ]
    }
   ],
   "source": [
    "#2\n",
    "print(data[(data['sequence'].str.len() > 90) & (data['sequence'].str.len() < 110)]['gene name'].values, '\\n')"
   ]
  },
  {
   "cell_type": "code",
   "execution_count": 4,
   "metadata": {},
   "outputs": [
    {
     "output_type": "stream",
     "name": "stdout",
     "text": [
      "['teg436'] \n\n"
     ]
    }
   ],
   "source": [
    "#3\n",
    "print(data[(((data['sequence'].str.count('a') + data['sequence'].str.count('t')) / data['sequence'].str.len()) < 0.5) & (data['expression level'] > 200)]['gene name'].values, '\\n')"
   ]
  },
  {
   "cell_type": "code",
   "execution_count": 5,
   "metadata": {},
   "outputs": [
    {
     "output_type": "stream",
     "name": "stdout",
     "text": [
      "['kdy533' 'hdt739' 'hdu045'] \n\n"
     ]
    }
   ],
   "source": [
    "#4\n",
    "print(data[((data['gene name'].str[0] == 'k') | (data['gene name'].str[0] == 'h')) & (data['species name'] != 'Drosophila melanogaster')]['gene name'].values, '\\n')"
   ]
  },
  {
   "cell_type": "code",
   "execution_count": null,
   "metadata": {},
   "outputs": [],
   "source": []
  }
 ]
}