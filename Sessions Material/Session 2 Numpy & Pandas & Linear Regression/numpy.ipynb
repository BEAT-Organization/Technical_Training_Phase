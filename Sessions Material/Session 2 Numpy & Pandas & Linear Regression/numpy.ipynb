{
 "cells": [
  {
   "cell_type": "code",
   "execution_count": 1,
   "metadata": {},
   "outputs": [],
   "source": [
    "import numpy as np"
   ]
  },
  {
   "cell_type": "markdown",
   "metadata": {},
   "source": [
    "## Creating Array"
   ]
  },
  {
   "cell_type": "code",
   "execution_count": 16,
   "metadata": {},
   "outputs": [
    {
     "name": "stdout",
     "output_type": "stream",
     "text": [
      "[1 2 3]\n",
      "-------------------------\n",
      "[[0. 0. 0.]\n",
      " [0. 0. 0.]]\n",
      "-------------------------\n",
      "[[1. 1. 1.]\n",
      " [1. 1. 1.]]\n"
     ]
    }
   ],
   "source": [
    "#np.array\n",
    "arr = np.array([1,2,3])\n",
    "print(arr)\n",
    "print('-------------------------')\n",
    "\n",
    "#np.zeros\n",
    "zeros = np.zeros((2,3))\n",
    "print(zeros)\n",
    "print('-------------------------')\n",
    "\n",
    "#np.ones\n",
    "ones = np.ones((2,3))\n",
    "print(ones)\n"
   ]
  },
  {
   "cell_type": "markdown",
   "metadata": {},
   "source": [
    "## a = b  vs  a = b.copy()"
   ]
  },
  {
   "cell_type": "code",
   "execution_count": 17,
   "metadata": {},
   "outputs": [
    {
     "name": "stdout",
     "output_type": "stream",
     "text": [
      "[[0. 5. 0.]\n",
      " [0. 0. 0.]]\n",
      "-------------------------\n",
      "[[0. 5. 0.]\n",
      " [0. 0. 0.]]\n"
     ]
    }
   ],
   "source": [
    "# arr = zeros\n",
    "arr = zeros\n",
    "arr[0,1] = 5\n",
    "print(arr)\n",
    "print('-------------------------')\n",
    "print(zeros)"
   ]
  },
  {
   "cell_type": "code",
   "execution_count": 18,
   "metadata": {},
   "outputs": [
    {
     "name": "stdout",
     "output_type": "stream",
     "text": [
      "[[0. 5. 0.]\n",
      " [0. 0. 0.]]\n",
      "-------------------------\n",
      "[[0. 0. 0.]\n",
      " [0. 0. 0.]]\n"
     ]
    }
   ],
   "source": [
    "# arr = zeros2.copy()\n",
    "\n",
    "zeros2 = np.zeros((2,3))\n",
    "arr = zeros2.copy()\n",
    "arr[0][1] = 5 \n",
    "print(arr)\n",
    "print('-------------------------')\n",
    "print(zeros2)"
   ]
  },
  {
   "cell_type": "markdown",
   "metadata": {},
   "source": [
    "## Random int and Reshape()"
   ]
  },
  {
   "cell_type": "code",
   "execution_count": 19,
   "metadata": {},
   "outputs": [
    {
     "name": "stdout",
     "output_type": "stream",
     "text": [
      "[[189  92 632 734 762 376 349 802 784 378]\n",
      " [337 694 679 770 924 552 688 883 644 325]\n",
      " [243 166 594 435  91 165 804 987 161 128]\n",
      " [441 405  62  64  33 388 667 678 740 635]]\n"
     ]
    }
   ],
   "source": [
    "arr = np.random.randint(0 , 1000 , 40)\n",
    "arr = arr.reshape(4,10)\n",
    "print(arr)"
   ]
  },
  {
   "cell_type": "markdown",
   "metadata": {},
   "source": [
    "## Slicing"
   ]
  },
  {
   "cell_type": "code",
   "execution_count": 20,
   "metadata": {},
   "outputs": [
    {
     "name": "stdout",
     "output_type": "stream",
     "text": [
      "[[632 734 762 376 349 802 784 378]\n",
      " [679 770 924 552 688 883 644 325]]\n"
     ]
    }
   ],
   "source": [
    "# [Start : End : Step]\n",
    "#arr[ 0:4:2 , 0:10:3 ]\n",
    "\n",
    "# [Start(0) : End-1(end) : Step(1)]\n",
    "#print(arr[0,1]) #element\n",
    "#print(arr[2,:]) #row\n",
    "#print(arr[:,-2]) #columns\n",
    "print(arr[0:2,2:arr.shape[1]]) #random slice"
   ]
  },
  {
   "cell_type": "code",
   "execution_count": 21,
   "metadata": {},
   "outputs": [
    {
     "data": {
      "text/plain": [
       "array([[632, 734, 762],\n",
       "       [679, 770, 924],\n",
       "       [594, 435,  91],\n",
       "       [ 62,  64,  33]])"
      ]
     },
     "execution_count": 21,
     "metadata": {},
     "output_type": "execute_result"
    }
   ],
   "source": [
    "# default start = 0 end = len(arr) step = 1\n",
    "arr[:, 2:5]"
   ]
  },
  {
   "cell_type": "markdown",
   "metadata": {},
   "source": [
    "## Operations On Array"
   ]
  },
  {
   "cell_type": "code",
   "execution_count": 22,
   "metadata": {},
   "outputs": [
    {
     "name": "stdout",
     "output_type": "stream",
     "text": [
      "[4 6 8]\n",
      "-------------------------\n",
      "[-2 -2 -2]\n",
      "-------------------------\n",
      "[ 3  8 15]\n",
      "-------------------------\n",
      "[0.33333333 0.5        0.6       ]\n"
     ]
    }
   ],
   "source": [
    "arr1 = np.array([1,2,3])\n",
    "arr2 = np.array([3,4,5])\n",
    "\n",
    "# Add +\n",
    "print(arr1 + arr2)\n",
    "\n",
    "print('-------------------------')\n",
    "\n",
    "# Subtract -\n",
    "print(arr1 - arr2)\n",
    "\n",
    "print('-------------------------')\n",
    "\n",
    "# Multiply *\n",
    "print(arr1 * arr2)\n",
    "\n",
    "print('-------------------------')\n",
    "\n",
    "# Division /\n",
    "print(arr1 / arr2)"
   ]
  },
  {
   "cell_type": "markdown",
   "metadata": {},
   "source": [
    "## Dot Product"
   ]
  },
  {
   "cell_type": "code",
   "execution_count": 23,
   "metadata": {},
   "outputs": [
    {
     "name": "stdout",
     "output_type": "stream",
     "text": [
      "14\n"
     ]
    },
    {
     "data": {
      "text/plain": [
       "26"
      ]
     },
     "execution_count": 23,
     "metadata": {},
     "output_type": "execute_result"
    }
   ],
   "source": [
    "# To return transpose arr.T \n",
    "\n",
    "print(np.dot(arr1,arr1.T))\n",
    "arr3 = arr1@arr2\n",
    "arr3"
   ]
  },
  {
   "cell_type": "markdown",
   "metadata": {},
   "source": [
    "## Broadcasting"
   ]
  },
  {
   "cell_type": "code",
   "execution_count": 24,
   "metadata": {},
   "outputs": [
    {
     "data": {
      "text/plain": [
       "array([[1., 1., 1.],\n",
       "       [0., 0., 0.],\n",
       "       [1., 1., 1.]])"
      ]
     },
     "execution_count": 24,
     "metadata": {},
     "output_type": "execute_result"
    }
   ],
   "source": [
    "arr3 = np.zeros(9).reshape(3,3)\n",
    "vector = np.array([1,0,1])\n",
    "\n",
    "#ADD VECTOR COLUMN-WISE\n",
    "arr3+vector.reshape(-1,1) #arr3+vector for row-wise"
   ]
  },
  {
   "cell_type": "markdown",
   "metadata": {},
   "source": [
    "## Vectoraization"
   ]
  },
  {
   "cell_type": "code",
   "execution_count": 25,
   "metadata": {},
   "outputs": [],
   "source": [
    "x = np.random.randint(0,1000,100000)"
   ]
  },
  {
   "cell_type": "code",
   "execution_count": 26,
   "metadata": {},
   "outputs": [
    {
     "name": "stdout",
     "output_type": "stream",
     "text": [
      "22.4 ms ± 444 µs per loop (mean ± std. dev. of 7 runs, 100 loops each)\n"
     ]
    }
   ],
   "source": [
    "%%timeit -n 100\n",
    "summ = 0\n",
    "for i in x :\n",
    "    summ += i \n",
    "\n"
   ]
  },
  {
   "cell_type": "code",
   "execution_count": 27,
   "metadata": {},
   "outputs": [
    {
     "name": "stdout",
     "output_type": "stream",
     "text": [
      "61.1 µs ± 3.01 µs per loop (mean ± std. dev. of 7 runs, 100 loops each)\n"
     ]
    }
   ],
   "source": [
    "%%timeit -n 100\n",
    "summ = np.sum(x)\n"
   ]
  },
  {
   "cell_type": "markdown",
   "metadata": {},
   "source": [
    "## Statistics"
   ]
  },
  {
   "cell_type": "code",
   "execution_count": 28,
   "metadata": {},
   "outputs": [
    {
     "name": "stdout",
     "output_type": "stream",
     "text": [
      "6\n",
      "3\n",
      "2.0\n",
      "0.816496580927726\n"
     ]
    }
   ],
   "source": [
    "# sum of array \n",
    "print(np.sum(arr1))\n",
    "\n",
    "# max value in array\n",
    "print(np.max(arr1))\n",
    "\n",
    "# mean for all values in array\n",
    "print(np.mean(arr1))\n",
    "\n",
    "# standard deviation|\n",
    "print(np.std(arr1))"
   ]
  },
  {
   "cell_type": "code",
   "execution_count": 29,
   "metadata": {},
   "outputs": [
    {
     "data": {
      "text/plain": [
       "array([0., 0., 0.])"
      ]
     },
     "execution_count": 29,
     "metadata": {},
     "output_type": "execute_result"
    }
   ],
   "source": [
    "np.sum(arr3,axis=1)"
   ]
  }
 ],
 "metadata": {
  "kernelspec": {
   "display_name": "Python 3",
   "language": "python",
   "name": "python3"
  },
  "language_info": {
   "codemirror_mode": {
    "name": "ipython",
    "version": 3
   },
   "file_extension": ".py",
   "mimetype": "text/x-python",
   "name": "python",
   "nbconvert_exporter": "python",
   "pygments_lexer": "ipython3",
   "version": "3.7.6"
  }
 },
 "nbformat": 4,
 "nbformat_minor": 2
}
