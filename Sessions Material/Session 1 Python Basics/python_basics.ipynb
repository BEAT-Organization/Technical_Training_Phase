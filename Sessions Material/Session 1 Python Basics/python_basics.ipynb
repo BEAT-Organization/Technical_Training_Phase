{
 "cells": [
  {
   "cell_type": "markdown",
   "metadata": {},
   "source": [
    "# The Python Programming Language : Basics"
   ]
  },
  {
   "cell_type": "markdown",
   "metadata": {},
   "source": [
    "### Variables and data types"
   ]
  },
  {
   "cell_type": "code",
   "execution_count": 1,
   "metadata": {},
   "outputs": [
    {
     "name": "stdout",
     "output_type": "stream",
     "text": [
      "Int:  5 Float:  0.5\n",
      "String:  Hello\n",
      "Bool:  True\n",
      "2\n"
     ]
    }
   ],
   "source": [
    "x = 5         # int\n",
    "y = 0.5       # float\n",
    "z = 'Hello'   # Strings\n",
    "q = True      # Bool\n",
    "\n",
    "print( 'Int: ' , x , end=' ')\n",
    "print( 'Float: ' , y )\n",
    "print( 'String: ' , z )\n",
    "print( 'Bool: ' , q )\n",
    "\n"
   ]
  },
  {
   "cell_type": "code",
   "execution_count": 6,
   "metadata": {},
   "outputs": [
    {
     "name": "stdout",
     "output_type": "stream",
     "text": [
      "ssss\n",
      "2\n",
      "3\n",
      "4\n",
      "5\n",
      "6\n"
     ]
    }
   ],
   "source": [
    "print(\"ssss\",2,3,4,5,6,sep=\"\\n\")\n"
   ]
  },
  {
   "cell_type": "code",
   "execution_count": null,
   "metadata": {},
   "outputs": [],
   "source": []
  },
  {
   "cell_type": "code",
   "execution_count": 13,
   "metadata": {},
   "outputs": [
    {
     "data": {
      "text/plain": [
       "\"Ahmed's book\""
      ]
     },
     "execution_count": 13,
     "metadata": {},
     "output_type": "execute_result"
    }
   ],
   "source": [
    "# \" \" vs ' '\n",
    "a = \"Ahmed's book\"\n",
    "a\n"
   ]
  },
  {
   "cell_type": "markdown",
   "metadata": {},
   "source": [
    "### Operators"
   ]
  },
  {
   "cell_type": "code",
   "execution_count": 16,
   "metadata": {},
   "outputs": [
    {
     "name": "stdout",
     "output_type": "stream",
     "text": [
      "10 / 2 =  3.3333333333333335\n",
      "10 power 2 =  100\n",
      "10 mod 2 =  1\n",
      "Is x equal to y ? : True\n",
      "True and False =  False\n",
      "True or False =  True\n"
     ]
    }
   ],
   "source": [
    "## Math. operators (+ , - , * , / , %)\n",
    "\n",
    "x = 10\n",
    "\n",
    "y = 3\n",
    "\n",
    "print('10 / 2 = ' , x / y )\n",
    "\n",
    "print('10 power 2 = ' , x**2 ) # 10 power of 2 \n",
    "\n",
    "print('10 mod 2 = ', x % y ) \n",
    "\n",
    "\n",
    "## Comparing operators (== , > ,< ,<= , >= , !=)\n",
    "\n",
    "x = 5\n",
    "\n",
    "y = x == 5\n",
    "\n",
    "print( 'Is x equal to y ? :' , y )\n",
    "\n",
    "## Logical operators\n",
    "\n",
    "#x = x + 5 == x += 5 \n",
    "\n",
    "y = True\n",
    "\n",
    "z = False\n",
    "\n",
    "w = y and z\n",
    "\n",
    "r = y or z \n",
    "\n",
    "print('True and False = ' , w )\n",
    "print('True or False = ', r ) "
   ]
  },
  {
   "cell_type": "markdown",
   "metadata": {},
   "source": [
    "### Containers"
   ]
  },
  {
   "cell_type": "code",
   "execution_count": 20,
   "metadata": {},
   "outputs": [
    {
     "data": {
      "text/plain": [
       "8"
      ]
     },
     "execution_count": 20,
     "metadata": {},
     "output_type": "execute_result"
    }
   ],
   "source": [
    "\n",
    "# LIST\n",
    "\n",
    "##(1)\n",
    "a = [1,2,3,4,5,6,'a',True]\n",
    "\n",
    "# update item\n",
    "a[2] = 0\n",
    "##(2)\n",
    "\n",
    "# add item\n",
    "a.append(3)\n",
    "##(3)\n",
    "\n",
    "# remove item\n",
    "\n",
    "##(4)\n",
    "\n",
    "a.remove(1)\n",
    "\n",
    "#lenght of th`e list\n",
    "len(a)"
   ]
  },
  {
   "cell_type": "code",
   "execution_count": 25,
   "metadata": {},
   "outputs": [
    {
     "data": {
      "text/plain": [
       "4"
      ]
     },
     "execution_count": 25,
     "metadata": {},
     "output_type": "execute_result"
    }
   ],
   "source": [
    "a[2]"
   ]
  },
  {
   "cell_type": "code",
   "execution_count": null,
   "metadata": {},
   "outputs": [],
   "source": []
  },
  {
   "cell_type": "code",
   "execution_count": 23,
   "metadata": {},
   "outputs": [
    {
     "data": {
      "text/plain": [
       "(2, 3, 4)"
      ]
     },
     "execution_count": 23,
     "metadata": {},
     "output_type": "execute_result"
    }
   ],
   "source": [
    "#TUPLE\n",
    "b = (2,3,4)\n",
    "b"
   ]
  },
  {
   "cell_type": "code",
   "execution_count": 29,
   "metadata": {},
   "outputs": [],
   "source": [
    "# DICTIONARY\n",
    "\n",
    "dic = {'a':[1,32,3],'b':True,'c':3}\n",
    "#Adding new values\n",
    "dic['d'] = 5\n",
    "\n",
    "# Updating values\n",
    "dic['a'] = 2"
   ]
  },
  {
   "cell_type": "code",
   "execution_count": 31,
   "metadata": {},
   "outputs": [
    {
     "data": {
      "text/plain": [
       "{1, 2, 5}"
      ]
     },
     "execution_count": 31,
     "metadata": {},
     "output_type": "execute_result"
    }
   ],
   "source": [
    "# SET\n",
    "# Unique items \n",
    "# Sorted\n",
    "\n",
    "mySet = set([1,1,1,1,1,1,5,2])\n"
   ]
  },
  {
   "cell_type": "markdown",
   "metadata": {},
   "source": [
    "### Important Notes"
   ]
  },
  {
   "cell_type": "code",
   "execution_count": 33,
   "metadata": {},
   "outputs": [
    {
     "data": {
      "text/plain": [
       "['Y', 'e', 'h', 'i', 'a']"
      ]
     },
     "execution_count": 33,
     "metadata": {},
     "output_type": "execute_result"
    }
   ],
   "source": [
    "# Converting strings to lists\n",
    "x = \"Yehia\"\n",
    "list(x) #type casting"
   ]
  },
  {
   "cell_type": "code",
   "execution_count": 35,
   "metadata": {},
   "outputs": [
    {
     "data": {
      "text/plain": [
       "'Yehia2'"
      ]
     },
     "execution_count": 35,
     "metadata": {},
     "output_type": "execute_result"
    }
   ],
   "source": [
    "# Operations on strings (* , +)\n",
    "x + \"2\""
   ]
  },
  {
   "cell_type": "code",
   "execution_count": 38,
   "metadata": {},
   "outputs": [
    {
     "name": "stdout",
     "output_type": "stream",
     "text": [
      "5 + 9 = 14\n"
     ]
    }
   ],
   "source": [
    "# Why ?\n",
    "x = '5 + 9 = '\n",
    "y = 5 + 9\n",
    "\n",
    "print( x + str(y) )\n"
   ]
  },
  {
   "cell_type": "code",
   "execution_count": 41,
   "metadata": {},
   "outputs": [],
   "source": []
  },
  {
   "cell_type": "code",
   "execution_count": null,
   "metadata": {},
   "outputs": [],
   "source": [
    "## Type casting (converting)"
   ]
  },
  {
   "cell_type": "code",
   "execution_count": 40,
   "metadata": {},
   "outputs": [
    {
     "data": {
      "text/plain": [
       "[1, 2, 'a', 3, 4, 'b']"
      ]
     },
     "execution_count": 40,
     "metadata": {},
     "output_type": "execute_result"
    }
   ],
   "source": [
    "# Operations on Lists\n",
    "a = [1,2,'a']\n",
    "b = [3,4,'b']\n",
    "\n",
    "a + b\n"
   ]
  },
  {
   "cell_type": "code",
   "execution_count": null,
   "metadata": {},
   "outputs": [],
   "source": [
    "#Checking on items in lists"
   ]
  },
  {
   "cell_type": "markdown",
   "metadata": {},
   "source": [
    "## If statment :\n",
    "### if < bool > :"
   ]
  },
  {
   "cell_type": "code",
   "execution_count": 59,
   "metadata": {},
   "outputs": [
    {
     "name": "stdout",
     "output_type": "stream",
     "text": [
      "2\n"
     ]
    }
   ],
   "source": [
    "x = 6\n",
    "# \n",
    "\n",
    "\n",
    "if x <= 1 or x >= 5:\n",
    "    print(2)\n",
    "\n",
    "    \n",
    "\n",
    "\n"
   ]
  },
  {
   "cell_type": "markdown",
   "metadata": {},
   "source": [
    "## Loops: "
   ]
  },
  {
   "cell_type": "code",
   "execution_count": 78,
   "metadata": {},
   "outputs": [
    {
     "name": "stdout",
     "output_type": "stream",
     "text": [
      "23456\n",
      "-------------------------\n",
      "1\n",
      "3\n",
      "5\n",
      "-------------------------\n",
      "[1, 32, 3]\n",
      "True\n",
      "3\n"
     ]
    }
   ],
   "source": [
    "x = [1,2,3,4,5]\n",
    "\n",
    "index = 0\n",
    "# While\n",
    "while index < len(x):\n",
    "    print(x[index]+1,end='')\n",
    "    index = index + 1\n",
    "\n",
    "print('\\n-------------------------')\n",
    "# For\n",
    "newList =[]\n",
    "for index in range(0,len(x),2):\n",
    "    print(x[index])\n",
    "    \n",
    "\n",
    "print('-------------------------')\n",
    "##(4)\n",
    "\n",
    "dic = {'a':[1,32,3],'b':True,'c':3}\n",
    "for key in dic.keys():\n",
    "    print(dic[key])\n",
    "\n"
   ]
  },
  {
   "cell_type": "markdown",
   "metadata": {},
   "source": [
    "## Functions"
   ]
  },
  {
   "cell_type": "code",
   "execution_count": 90,
   "metadata": {},
   "outputs": [
    {
     "data": {
      "text/plain": [
       "4"
      ]
     },
     "execution_count": 90,
     "metadata": {},
     "output_type": "execute_result"
    }
   ],
   "source": [
    "#Normal Functions\n",
    "def calculations(x=2,y=1): \n",
    "    output = 0\n",
    "    if (x+y) % 2 == 0:\n",
    "        output = x+y\n",
    "    return output\n",
    "\n",
    "calculations(2,2)"
   ]
  },
  {
   "cell_type": "code",
   "execution_count": 88,
   "metadata": {},
   "outputs": [
    {
     "data": {
      "text/plain": [
       "3"
      ]
     },
     "execution_count": 88,
     "metadata": {},
     "output_type": "execute_result"
    }
   ],
   "source": [
    "#Lambda Functions\n",
    "add = lambda x,y: x+y\n",
    "\n",
    "add(1,2)"
   ]
  },
  {
   "cell_type": "markdown",
   "metadata": {},
   "source": [
    "### Ternary Operator"
   ]
  },
  {
   "cell_type": "code",
   "execution_count": 93,
   "metadata": {},
   "outputs": [
    {
     "data": {
      "text/plain": [
       "4"
      ]
     },
     "execution_count": 93,
     "metadata": {},
     "output_type": "execute_result"
    }
   ],
   "source": [
    "# (return value1) if condition else (return value2)\n",
    "x=2\n",
    "y=2\n"
   ]
  },
  {
   "cell_type": "code",
   "execution_count": 96,
   "metadata": {},
   "outputs": [
    {
     "data": {
      "text/plain": [
       "4"
      ]
     },
     "execution_count": 96,
     "metadata": {},
     "output_type": "execute_result"
    }
   ],
   "source": [
    "# x+y -> even ? (x+y%2 == 0) -> true:even\n",
    "\n",
    "add = lambda x,y: x+y if (x+y)%2 == 0 else 0\n",
    "\n",
    "add(2,2)"
   ]
  },
  {
   "cell_type": "markdown",
   "metadata": {},
   "source": [
    "### List Comprehension"
   ]
  },
  {
   "cell_type": "code",
   "execution_count": 105,
   "metadata": {},
   "outputs": [
    {
     "name": "stdout",
     "output_type": "stream",
     "text": [
      "2\n",
      "4\n",
      "6\n"
     ]
    },
    {
     "data": {
      "text/plain": [
       "[0, 2, 0, 4, 0, 6]"
      ]
     },
     "execution_count": 105,
     "metadata": {},
     "output_type": "execute_result"
    }
   ],
   "source": [
    "# [(return item) (outer loop) (inner loop) (inner condition)]\n",
    "\n",
    "a = [[1,2],[3,4],[5,6]]\n",
    "# Normal loop\n",
    "\n",
    "for array in a: #outer loop\n",
    "    for item in array: # inner loop\n",
    "        if item%2 == 0: #inner condition\n",
    "            print(item)\n",
    "        \n",
    "b = [1,2,3]\n",
    "\n",
    "[item if (item)%2 == 0 else 0 for array in a for item in array]"
   ]
  },
  {
   "cell_type": "markdown",
   "metadata": {},
   "source": [
    "### Lambda and maps"
   ]
  },
  {
   "cell_type": "code",
   "execution_count": 7,
   "metadata": {},
   "outputs": [
    {
     "data": {
      "text/plain": [
       "[0, 2, 0, 4]"
      ]
     },
     "execution_count": 7,
     "metadata": {},
     "output_type": "execute_result"
    }
   ],
   "source": [
    "#Normal Function and lambdas\n",
    "\n",
    "a = [1,2,3,4]\n",
    "\n",
    "\n",
    "output = map(lambda x: x if x%2 == 0 else 0 ,a)\n",
    "\n",
    "list(output)"
   ]
  },
  {
   "cell_type": "markdown",
   "metadata": {},
   "source": [
    "## Classes"
   ]
  },
  {
   "cell_type": "code",
   "execution_count": 118,
   "metadata": {},
   "outputs": [],
   "source": [
    "class person:\n",
    "    #Variables (members)\n",
    "    name=\"moaaz\"\n",
    "    age=-1\n",
    "    \n",
    "    #Functions (methods)\n",
    "    def __init__(self,name,age):\n",
    "        self.name = name\n",
    "        self.age = age\n",
    "    def getName(self):\n",
    "        return self.name\n",
    "    \n",
    "    "
   ]
  },
  {
   "cell_type": "code",
   "execution_count": 120,
   "metadata": {},
   "outputs": [
    {
     "data": {
      "text/plain": [
       "'Asmaa'"
      ]
     },
     "execution_count": 120,
     "metadata": {},
     "output_type": "execute_result"
    }
   ],
   "source": [
    "x = person(\"Ahmed\",19)\n",
    "x.getName()\n",
    "\n",
    "y = person('Asmaa',20)\n",
    "y.getName()\n",
    "y.name = \"Asmaa\""
   ]
  },
  {
   "cell_type": "code",
   "execution_count": 121,
   "metadata": {},
   "outputs": [],
   "source": []
  },
  {
   "cell_type": "markdown",
   "metadata": {},
   "source": [
    "### Importing"
   ]
  },
  {
   "cell_type": "code",
   "execution_count": 123,
   "metadata": {},
   "outputs": [
    {
     "data": {
      "text/plain": [
       "8"
      ]
     },
     "execution_count": 123,
     "metadata": {},
     "output_type": "execute_result"
    }
   ],
   "source": [
    "import numpy as np #math operations\n",
    "\n",
    "np.power(2,3)"
   ]
  },
  {
   "cell_type": "code",
   "execution_count": null,
   "metadata": {},
   "outputs": [],
   "source": []
  }
 ],
 "metadata": {
  "kernelspec": {
   "display_name": "Python 3",
   "language": "python",
   "name": "python3"
  },
  "language_info": {
   "codemirror_mode": {
    "name": "ipython",
    "version": 3
   },
   "file_extension": ".py",
   "mimetype": "text/x-python",
   "name": "python",
   "nbconvert_exporter": "python",
   "pygments_lexer": "ipython3",
   "version": "3.7.6"
  }
 },
 "nbformat": 4,
 "nbformat_minor": 2
}
