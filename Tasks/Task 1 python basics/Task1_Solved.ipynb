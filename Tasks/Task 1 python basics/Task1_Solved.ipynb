{
 "cells": [
  {
   "cell_type": "markdown",
   "metadata": {},
   "source": [
    "### 1.1 Write a Python function that returns the corrosponding type for every integer in a list ( even or odd)\n",
    "\n",
    "#### Example :\n",
    "####           Input : [ 2 , 7 , 5  , 9 ] , type: List\n",
    "####           Output : [ 'Even' , 'Odd' , 'Odd' , 'Odd'] , type: List|"
   ]
  },
  {
   "cell_type": "code",
   "execution_count": 10,
   "metadata": {},
   "outputs": [
    {
     "data": {
      "text/plain": [
       "['Even', 'Odd', 'Odd', 'Odd']"
      ]
     },
     "execution_count": 10,
     "metadata": {},
     "output_type": "execute_result"
    }
   ],
   "source": [
    "def even_or_odd(L):\n",
    "    temp = []\n",
    "    for i in L :\n",
    "        if i%2 == 0:\n",
    "            temp.append('Even')\n",
    "        else:\n",
    "            temp.append('Odd')\n",
    "            \n",
    "    return temp\n",
    "\n",
    "even_or_odd([2,7,5,9])"
   ]
  },
  {
   "cell_type": "markdown",
   "metadata": {},
   "source": [
    "### 1.2 Write a Python function that takes a list and returns a new list with unique elements of the first list and sort  in ascending order\n",
    "\n",
    "### Example:\n",
    "\n",
    "###        Input = [1,1,3,3,2,2]\n",
    "###        Output = [1,2,3]"
   ]
  },
  {
   "cell_type": "code",
   "execution_count": 1,
   "metadata": {},
   "outputs": [
    {
     "output_type": "stream",
     "name": "stdout",
     "text": [
      "{1, 2, 3, 5}\n"
     ]
    }
   ],
   "source": [
    "#Using for and if\n",
    "# def Unique(L):\n",
    "#     temp = []\n",
    "#     for x in L:\n",
    "#         if x not in temp:\n",
    "#             temp.append(x)\n",
    "    \n",
    "#     temp.sort()\n",
    "#     return temp\n",
    "\n",
    "# result = Unique([3,5,5,2,1])\n",
    "\n",
    "# Using Set\n",
    "result = set([3,5,5,2,1]) \n",
    "\n",
    "print(result)"
   ]
  },
  {
   "cell_type": "markdown",
   "metadata": {},
   "source": [
    "### 1.3 Write a Python function that checks whether a passed string is palindrome or not.\n",
    "\n",
    "### Example: \n",
    "\n",
    "###      Input: 'madam'\n",
    "###      Output: True"
   ]
  },
  {
   "cell_type": "code",
   "execution_count": 21,
   "metadata": {},
   "outputs": [
    {
     "data": {
      "text/plain": [
       "True"
      ]
     },
     "execution_count": 21,
     "metadata": {},
     "output_type": "execute_result"
    }
   ],
   "source": [
    "def is_palindrome(string):\n",
    "    left_pos = 0\n",
    "    right_pos = len(string) - 1\n",
    "\n",
    "    while right_pos >= left_pos:\n",
    "        if string[left_pos] != string[right_pos]:\n",
    "            return False\n",
    "        left_pos += 1\n",
    "        right_pos -= 1\n",
    "    return True\n",
    "\n",
    "# you can also reverse the string and compare the reversed string with the original string directly\n",
    "# string = string[::-1] \n",
    "# this is the reverse of the string as it loops over the elements from the end to the start\n",
    "\n",
    "is_palindrome('madam')"
   ]
  },
  {
   "cell_type": "markdown",
   "metadata": {},
   "source": [
    "### 1.4 Write a code to print the tables of multiplication of numbers from a to b using list comprehension \n",
    "### Example:\n",
    "\n",
    "### if a = 7 and b = 8\n",
    "\n",
    "#### output = [[7, 14, 21, 28, 35, 42, 49, 56, 63, 70], [8, 16, 24, 32, 40, 48, 56, 64, 72, 80]]"
   ]
  },
  {
   "cell_type": "code",
   "execution_count": 3,
   "metadata": {},
   "outputs": [
    {
     "output_type": "stream",
     "name": "stdout",
     "text": [
      "[[7, 14, 21, 28, 35, 42, 49, 56, 63, 70], [8, 16, 24, 32, 40, 48, 56, 64, 72, 80], [9, 18, 27, 36, 45, 54, 63, 72, 81, 90], [10, 20, 30, 40, 50, 60, 70, 80, 90, 100]]\n"
     ]
    }
   ],
   "source": [
    "a = 7\n",
    "b = 10\n",
    "print([[i*j for j in range(1,11)] for i in range(a,b+1)])"
   ]
  },
  {
   "cell_type": "markdown",
   "metadata": {},
   "source": [
    "### 1.5 Write a Lamba map function that outputs the square of every element in a list and print the output\n",
    "\n",
    "### input = [10, 2, 8, 7, 5, 4, 3, 11, 0, 1]\n",
    "\n",
    "### output = [100, 4, 64, 49, 25, 16, 121, 0, 1]"
   ]
  },
  {
   "cell_type": "code",
   "execution_count": 5,
   "metadata": {},
   "outputs": [
    {
     "output_type": "stream",
     "name": "stdout",
     "text": [
      "[100, 4, 64, 49, 25, 16, 9, 121, 0, 1]\n"
     ]
    }
   ],
   "source": [
    "sequences = [10,2,8,7,5,4,3,11,0, 1]\n",
    "filtered_result = map (lambda x: x*x, sequences) \n",
    "print(list(filtered_result))"
   ]
  }
 ],
 "metadata": {
  "kernelspec": {
   "display_name": "Python 3",
   "language": "python",
   "name": "python3"
  },
  "language_info": {
   "codemirror_mode": {
    "name": "ipython",
    "version": 3
   },
   "file_extension": ".py",
   "mimetype": "text/x-python",
   "name": "python",
   "nbconvert_exporter": "python",
   "pygments_lexer": "ipython3",
   "version": "3.7.4-final"
  }
 },
 "nbformat": 4,
 "nbformat_minor": 2
}