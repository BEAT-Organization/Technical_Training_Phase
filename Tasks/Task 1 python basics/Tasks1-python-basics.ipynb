{
 "cells": [
  {
   "source": [
    "1.0 Write What fields you would like to start learning once the Fall term ends using Python List and print it:\n",
    "\n",
    "Example:\n",
    "\n",
    "x = [[embedded, Data analysis, image processing, Robotics, etc..]]\n",
    "\n",
    "Please Write What you really want to learn not anything :D "
   ],
   "cell_type": "markdown",
   "metadata": {}
  },
  {
   "cell_type": "markdown",
   "metadata": {},
   "source": [
    "### 1.1 Write a Python function that returns the corrosponding type for every integer in a list ( even or odd)\n",
    "\n",
    "#### Example :\n",
    "####           Input : [ 2 , 7 , 5  , 9 ] , type: List\n",
    "####           Output : [ 'Even' , 'Odd' , 'Odd' , 'Odd'] , type: List|"
   ]
  },
  {
   "cell_type": "code",
   "execution_count": null,
   "metadata": {},
   "outputs": [],
   "source": []
  },
  {
   "cell_type": "markdown",
   "metadata": {},
   "source": [
    "### 1.2 Write a Python function that takes a list and returns a new list with unique set  sorted in ascending order\n",
    "\n",
    "### Example:\n",
    "\n",
    "###        Input = [1,1,3,3,2,2]\n",
    "###        Output = [1,2,3]"
   ]
  },
  {
   "cell_type": "code",
   "execution_count": null,
   "metadata": {},
   "outputs": [],
   "source": []
  },
  {
   "cell_type": "markdown",
   "metadata": {},
   "source": [
    "### 1.3 Write a Python function that checks whether a passed string is palindrome or not.\n",
    "\n",
    "### Example: \n",
    "\n",
    "###      Input: 'madam'\n",
    "###      Output: True"
   ]
  },
  {
   "cell_type": "code",
   "execution_count": null,
   "metadata": {},
   "outputs": [],
   "source": []
  },
  {
   "cell_type": "markdown",
   "metadata": {},
   "source": [
    "### 1.4 Write a code to print the tables of multiplication of numbers from a to b using list comprehension \n",
    "### Example:\n",
    "\n",
    "### if a = 7 and b = 8\n",
    "\n",
    "#### output = [[7, 14, 21, 28, 35, 42, 49, 56, 63, 70], [8, 16, 24, 32, 40, 48, 56, 64, 72, 80]]"
   ]
  },
  {
   "cell_type": "code",
   "execution_count": null,
   "metadata": {},
   "outputs": [],
   "source": []
  },
  {
   "cell_type": "markdown",
   "metadata": {},
   "source": [
    "### 1.5 Write a Lamba map function that outputs the square of every element in a list and print the output\n",
    "\n",
    "### input = [10, 2, 8, 7, 5, 4, 3, 11, 0, 1]\n",
    "\n",
    "### output = [100, 4, 64, 49, 25, 16, 121, 0, 1]"
   ]
  },
  {
   "cell_type": "code",
   "execution_count": null,
   "metadata": {},
   "outputs": [],
   "source": []
  }
 ],
 "metadata": {
  "kernelspec": {
   "display_name": "Python 3",
   "language": "python",
   "name": "python3"
  },
  "language_info": {
   "codemirror_mode": {
    "name": "ipython",
    "version": 3
   },
   "file_extension": ".py",
   "mimetype": "text/x-python",
   "name": "python",
   "nbconvert_exporter": "python",
   "pygments_lexer": "ipython3",
   "version": "3.7.4-final"
  }
 },
 "nbformat": 4,
 "nbformat_minor": 2
}