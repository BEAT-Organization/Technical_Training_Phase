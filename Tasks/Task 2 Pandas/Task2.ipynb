{
 "metadata": {
  "language_info": {
   "codemirror_mode": {
    "name": "ipython",
    "version": 3
   },
   "file_extension": ".py",
   "mimetype": "text/x-python",
   "name": "python",
   "nbconvert_exporter": "python",
   "pygments_lexer": "ipython3",
   "version": "3.7.4-final"
  },
  "orig_nbformat": 2,
  "kernelspec": {
   "name": "python3",
   "display_name": "Python 3",
   "language": "python"
  }
 },
 "nbformat": 4,
 "nbformat_minor": 2,
 "cells": [
  {
   "cell_type": "code",
   "execution_count": 2,
   "metadata": {},
   "outputs": [],
   "source": [
    "import pandas as pd\n",
    "import numpy as np"
   ]
  },
  {
   "cell_type": "code",
   "execution_count": 3,
   "metadata": {},
   "outputs": [
    {
     "output_type": "execute_result",
     "data": {
      "text/plain": [
       "        Name  Gender  Year Biology Algebra Arabic History Mechanics\n",
       "0   Ahmed M.    Male     1       A       B      A       D         A\n",
       "1   Ahmed T.    Male     1       C       C      D       C         D\n",
       "2   Malak H.  Female     2       B       C      A       A         A\n",
       "3    Hoda M.  Female     1       F       B      A       B         B\n",
       "4  Yasser B.    Male     3       D       C      B       B         C\n",
       "5   Moaaz Z.    Male     2       C       A      C       C         B\n",
       "6   Yehia S.    Male     1       A       D      C       B         B\n",
       "7   Hanan K.  Female     1       B       A      B       A         C\n",
       "8     Mai F.  Female     2       B       A      C       D         D"
      ],
      "text/html": "<div>\n<style scoped>\n    .dataframe tbody tr th:only-of-type {\n        vertical-align: middle;\n    }\n\n    .dataframe tbody tr th {\n        vertical-align: top;\n    }\n\n    .dataframe thead th {\n        text-align: right;\n    }\n</style>\n<table border=\"1\" class=\"dataframe\">\n  <thead>\n    <tr style=\"text-align: right;\">\n      <th></th>\n      <th>Name</th>\n      <th>Gender</th>\n      <th>Year</th>\n      <th>Biology</th>\n      <th>Algebra</th>\n      <th>Arabic</th>\n      <th>History</th>\n      <th>Mechanics</th>\n    </tr>\n  </thead>\n  <tbody>\n    <tr>\n      <th>0</th>\n      <td>Ahmed M.</td>\n      <td>Male</td>\n      <td>1</td>\n      <td>A</td>\n      <td>B</td>\n      <td>A</td>\n      <td>D</td>\n      <td>A</td>\n    </tr>\n    <tr>\n      <th>1</th>\n      <td>Ahmed T.</td>\n      <td>Male</td>\n      <td>1</td>\n      <td>C</td>\n      <td>C</td>\n      <td>D</td>\n      <td>C</td>\n      <td>D</td>\n    </tr>\n    <tr>\n      <th>2</th>\n      <td>Malak H.</td>\n      <td>Female</td>\n      <td>2</td>\n      <td>B</td>\n      <td>C</td>\n      <td>A</td>\n      <td>A</td>\n      <td>A</td>\n    </tr>\n    <tr>\n      <th>3</th>\n      <td>Hoda M.</td>\n      <td>Female</td>\n      <td>1</td>\n      <td>F</td>\n      <td>B</td>\n      <td>A</td>\n      <td>B</td>\n      <td>B</td>\n    </tr>\n    <tr>\n      <th>4</th>\n      <td>Yasser B.</td>\n      <td>Male</td>\n      <td>3</td>\n      <td>D</td>\n      <td>C</td>\n      <td>B</td>\n      <td>B</td>\n      <td>C</td>\n    </tr>\n    <tr>\n      <th>5</th>\n      <td>Moaaz Z.</td>\n      <td>Male</td>\n      <td>2</td>\n      <td>C</td>\n      <td>A</td>\n      <td>C</td>\n      <td>C</td>\n      <td>B</td>\n    </tr>\n    <tr>\n      <th>6</th>\n      <td>Yehia S.</td>\n      <td>Male</td>\n      <td>1</td>\n      <td>A</td>\n      <td>D</td>\n      <td>C</td>\n      <td>B</td>\n      <td>B</td>\n    </tr>\n    <tr>\n      <th>7</th>\n      <td>Hanan K.</td>\n      <td>Female</td>\n      <td>1</td>\n      <td>B</td>\n      <td>A</td>\n      <td>B</td>\n      <td>A</td>\n      <td>C</td>\n    </tr>\n    <tr>\n      <th>8</th>\n      <td>Mai F.</td>\n      <td>Female</td>\n      <td>2</td>\n      <td>B</td>\n      <td>A</td>\n      <td>C</td>\n      <td>D</td>\n      <td>D</td>\n    </tr>\n  </tbody>\n</table>\n</div>"
     },
     "metadata": {},
     "execution_count": 3
    }
   ],
   "source": [
    "data = pd.read_excel('students_gpa.xlsx')\n",
    "data"
   ]
  },
  {
   "source": [
    "2.1) import the students_gpa data set and print all the students' Grades using iloc and loc"
   ],
   "cell_type": "markdown",
   "metadata": {}
  },
  {
   "cell_type": "code",
   "execution_count": null,
   "metadata": {},
   "outputs": [],
   "source": [
    "#write 2.1 here"
   ]
  },
  {
   "source": [
    "2.2) Calculate the Average of all students total GPA and append it in a new column (Consider that all Courses has the same Credit hours) Using Grades_dictionary Values. Single student GPA = Sum of their grades/Number of courses \n",
    "### (You can loop over the columns only. Any arithmatic operation you do must be done with numpy)\n",
    "\n",
    "hint: Use pandas.apply(lambda x: function) and create a function to translate the symbols into numbers "
   ],
   "cell_type": "markdown",
   "metadata": {}
  },
  {
   "cell_type": "code",
   "execution_count": null,
   "metadata": {},
   "outputs": [],
   "source": [
    "#write 2.2 here"
   ]
  }
 ]
}