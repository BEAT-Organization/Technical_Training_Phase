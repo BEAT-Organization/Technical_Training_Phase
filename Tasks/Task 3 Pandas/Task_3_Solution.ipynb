{
 "cells": [
  {
   "cell_type": "code",
   "execution_count": 6,
   "metadata": {},
   "outputs": [],
   "source": [
    "# importing numpy as np \n",
    "import numpy as np \n",
    "  \n",
    "# importig pyplot as plt \n",
    "import matplotlib.pyplot as plt "
   ]
  },
  {
   "cell_type": "code",
   "execution_count": 7,
   "metadata": {},
   "outputs": [],
   "source": [
    "######################################\n",
    "# creating a normal destribution data \n",
    "######################################\n",
    "# position \n",
    "pos = 100\n",
    "# scale \n",
    "scale = 5\n",
    "  \n",
    "# size \n",
    "size = 100000\n",
    "  \n",
    "# creating a normal destribution data \n",
    "values = np.random.normal(pos, scale, size) "
   ]
  },
  {
   "cell_type": "code",
   "execution_count": 8,
   "metadata": {},
   "outputs": [
    {
     "data": {
      "image/png": "[encoded data removed]",
      "text/plain": [
       "<Figure size 432x288 with 1 Axes>"
      ]
     },
     "metadata": {
      "needs_background": "light"
     },
     "output_type": "display_data"
    }
   ],
   "source": [
    "######################\n",
    "# plotting histograph \n",
    "######################\n",
    "plt.hist(values, 100) \n",
    "  \n",
    "# showing hte graph \n",
    "plt.show() "
   ]
  }
 ],
 "metadata": {
  "kernelspec": {
   "display_name": "Python 3",
   "language": "python",
   "name": "python3"
  },
  "language_info": {
   "codemirror_mode": {
    "name": "ipython",
    "version": 3
   },
   "file_extension": ".py",
   "mimetype": "text/x-python",
   "name": "python",
   "nbconvert_exporter": "python",
   "pygments_lexer": "ipython3",
   "version": "3.8.3"
  }
 },
 "nbformat": 4,
 "nbformat_minor": 4
}
